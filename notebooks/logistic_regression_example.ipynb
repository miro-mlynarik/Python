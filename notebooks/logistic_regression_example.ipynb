{
  "nbformat": 4,
  "nbformat_minor": 0,
  "metadata": {
    "colab": {
      "name": "Untitled15.ipynb",
      "version": "0.3.2",
      "provenance": [],
      "include_colab_link": true
    },
    "kernelspec": {
      "name": "python3",
      "display_name": "Python 3"
    }
  },
  "cells": [
    {
      "cell_type": "markdown",
      "metadata": {
        "id": "view-in-github",
        "colab_type": "text"
      },
      "source": [
        "<a href=\"https://colab.research.google.com/github/miro-mlynarik/Python/blob/master/logistic_regression_example.ipynb\" target=\"_parent\"><img src=\"https://colab.research.google.com/assets/colab-badge.svg\" alt=\"Open In Colab\"/></a>"
      ]
    },
    {
      "cell_type": "code",
      "metadata": {
        "id": "Dn9_NOj9Oi2z",
        "colab_type": "code",
        "colab": {
          "base_uri": "https://localhost:8080/",
          "height": 256
        },
        "outputId": "5705a9bc-1910-40b4-ba71-b5c6b0b2dcbe"
      },
      "source": [
        "import numpy as np \n",
        "import pandas as pd\n",
        "import sklearn.linear_model as lm\n",
        "import sklearn.metrics as m\n",
        "\n",
        "from google.colab import files\n",
        "uploaded = files.upload()\n",
        "\n",
        "import io\n",
        "df = pd.read_csv(io.BytesIO(uploaded['fin_out.csv']),sep=';')\n",
        "df.head()\n",
        "df2 = df[df['partition_id']=='TRAIN']\n",
        "df3 = df[df['partition_id']=='TEST']\n",
        "\n",
        "model = lm.LogisticRegression(C=9999, solver='newton-cg')\n",
        "factors = ['_075_cash_a', '_166_ebitda_int_exp_3', '_168_b_loans_bonds_a', '_172_eqty_gw_a_gw', '_187_margin_yoy_3', '_192_tpo_rev', '_209_ebtda_pv']\n",
        "X_train = df2[factors]\n",
        "y_train = df2.flg_default12m\n",
        "X_test = df3[factors]\n",
        "y_test = df3.flg_default12m\n",
        "\n",
        "model.fit(X_train,y_train)\n",
        "coef = pd.Series(model.coef_[0], index=factors)\n",
        "print(coef)\n",
        "print(model.intercept_)\n",
        "\n",
        "PD_train = model.predict_proba(X_train)[:,1]\n",
        "PD_test = model.predict_proba(X_test)[:,1]\n",
        "\n",
        "somers_d_train = 2*(m.roc_auc_score(y_train,PD_train))-1\n",
        "print('somers_d_train: ', round(somers_d_train,3))\n",
        "somers_d_test = 2*(m.roc_auc_score(y_test,PD_test))-1\n",
        "print('somers_d_test: ', round(somers_d_test,3)\n",
        "\n",
        "\n",
        "print(m.confusion_matrix(df2.flg_default12m, model.predict(X)))\n",
        "print(m.classification_report(df2.flg_default12m, model.predict(X)))\n",
        "\n",
        "\n",
        "df2.shape\n",
        "df3.shape  "
      ],
      "execution_count": 53,
      "outputs": [
        {
          "output_type": "stream",
          "text": [
            "somers_d_train:  0.5\n",
            "somers_d_test:  0.5019953736296894\n",
            "[[ 469 9041]\n",
            " [  22  262]]\n",
            "              precision    recall  f1-score   support\n",
            "\n",
            "           0       0.96      0.05      0.09      9510\n",
            "           1       0.03      0.92      0.05       284\n",
            "\n",
            "    accuracy                           0.07      9794\n",
            "   macro avg       0.49      0.49      0.07      9794\n",
            "weighted avg       0.93      0.07      0.09      9794\n",
            "\n"
          ],
          "name": "stdout"
        }
      ]
    },
    {
      "cell_type": "code",
      "metadata": {
        "id": "gEyu-jNCw6Jz",
        "colab_type": "code",
        "colab": {}
      },
      "source": [
        "#"
      ],
      "execution_count": 0,
      "outputs": []
    }
  ]
}